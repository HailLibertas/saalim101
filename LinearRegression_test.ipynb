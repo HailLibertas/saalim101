{
  "nbformat": 4,
  "nbformat_minor": 0,
  "metadata": {
    "colab": {
      "name": "LinearRegression test.ipynb",
      "provenance": [],
      "authorship_tag": "ABX9TyO43pI2YBxHMXlDm0xej9hp",
      "include_colab_link": true
    },
    "kernelspec": {
      "name": "python3",
      "display_name": "Python 3"
    },
    "language_info": {
      "name": "python"
    }
  },
  "cells": [
    {
      "cell_type": "markdown",
      "metadata": {
        "id": "view-in-github",
        "colab_type": "text"
      },
      "source": [
        "<a href=\"https://colab.research.google.com/github/saalim101/saalim101/blob/main/LinearRegression_test.ipynb\" target=\"_parent\"><img src=\"https://colab.research.google.com/assets/colab-badge.svg\" alt=\"Open In Colab\"/></a>"
      ]
    },
    {
      "cell_type": "code",
      "metadata": {
        "id": "wqX-8nypi4Iq"
      },
      "source": [
        "#Description : Build a simple ML Python program"
      ],
      "execution_count": null,
      "outputs": []
    },
    {
      "cell_type": "code",
      "metadata": {
        "id": "tY57JI49jIus"
      },
      "source": [
        "#import the dependencies\n",
        "from sklearn.linear_model import LinearRegression\n",
        "import random"
      ],
      "execution_count": null,
      "outputs": []
    },
    {
      "cell_type": "code",
      "metadata": {
        "id": "PgsDG9y4joKE"
      },
      "source": [
        "#create two empty list\n",
        "#one for the feature dataset and one for the target dataset\n",
        "feature_set = []\n",
        "target_set = []\n",
        "\n"
      ],
      "execution_count": null,
      "outputs": []
    },
    {
      "cell_type": "code",
      "metadata": {
        "id": "Zv5NnvbekF51"
      },
      "source": [
        "#get the number of rows for the data set\n",
        "number_of_rows = 200\n",
        "\n",
        "#limit the possible values in the data set\n",
        "\n",
        "random_number_limit =  2000"
      ],
      "execution_count": null,
      "outputs": []
    },
    {
      "cell_type": "code",
      "metadata": {
        "id": "f6QfBtv0kgQI"
      },
      "source": [
        "#create the data set\n",
        "\n",
        "#create the feature of the data set\n",
        "\n",
        "for i in range(0, number_of_rows):\n",
        "  x = random.randint(0, random_number_limit)\n",
        "  y = random.randint(0, random_number_limit)\n",
        "  z = random.randint(0, random_number_limit)\n",
        "\n",
        "\n",
        "    #create a linear function for the target data set\n",
        "function = (10*x)+(2*y)+(3*z)\n",
        "\n",
        "#Append the data to the list\n",
        "feature_set.append([x,y,z])\n",
        "target_set.append(function)\n",
        "\n"
      ],
      "execution_count": null,
      "outputs": []
    },
    {
      "cell_type": "code",
      "metadata": {
        "colab": {
          "base_uri": "https://localhost:8080/"
        },
        "id": "CJNdRvhzvzNh",
        "outputId": "25d5404b-9132-4e03-f720-506caf32550c"
      },
      "source": [
        "#create the Linear regression model\n",
        "model = LinearRegression()\n",
        "model.fit(feature_set, target_set)"
      ],
      "execution_count": null,
      "outputs": [
        {
          "output_type": "execute_result",
          "data": {
            "text/plain": [
              "LinearRegression(copy_X=True, fit_intercept=True, n_jobs=None, normalize=False)"
            ]
          },
          "metadata": {
            "tags": []
          },
          "execution_count": 116
        }
      ]
    },
    {
      "cell_type": "code",
      "metadata": {
        "id": "XXabgZJxwDig"
      },
      "source": [
        "#create the testing set\n",
        "test_set = [[8,10,0]] \n",
        "#Expected output = function (8,10,0) = (10*8)+(2*10)+(3*0) =100\n",
        "prediction = model.predict(test_set)"
      ],
      "execution_count": null,
      "outputs": []
    },
    {
      "cell_type": "code",
      "metadata": {
        "colab": {
          "base_uri": "https://localhost:8080/"
        },
        "id": "Ia_H4PYbxHmE",
        "outputId": "b78c4ac9-4cf1-4474-b662-99a13a39a51d"
      },
      "source": [
        "print('Prediction: '+str(prediction)+' Coefficients: '+str(model.coef_))"
      ],
      "execution_count": null,
      "outputs": [
        {
          "output_type": "stream",
          "text": [
            "Prediction: [11159.] Coefficients: [0. 0. 0.]\n"
          ],
          "name": "stdout"
        }
      ]
    }
  ]
}